{
 "cells": [
  {
   "cell_type": "code",
   "execution_count": 1,
   "metadata": {
    "collapsed": false
   },
   "outputs": [],
   "source": [
    "import matplotlib.pyplot as plt\n",
    "%matplotlib inline  \n",
    "import matplotlib.pylab as pylab\n",
    "\n",
    "import numpy as np\n",
    "import pandas as pd\n",
    "\n",
    "columns = [\"symboling\",\"normalized-losses\",\"make\",\"fuel-type\",\n",
    "           \"aspiration\",\"num-of-doors\",\"body-style\",\"drive-wheels\",\n",
    "           \"engine-location\",\"wheel-base\",\"length\",\"width\",\"height\",\n",
    "           \"curb-weight\",\"engine-type\",\"num-of-cylinders\",\n",
    "           \"engine-size\",\"fuel-system\",\"bore\",\"stroke\",\n",
    "           \"compression-ratio\",\"horsepower\",\"peak-rpm\",\"city-mpg\",\n",
    "           \"highway-mpg\",\"price\"]\n",
    "\n",
    "dataset = pd.read_csv('./autos/imports-85.data', na_values=\"?\", names=columns)"
   ]
  },
  {
   "cell_type": "code",
   "execution_count": 2,
   "metadata": {
    "collapsed": false
   },
   "outputs": [
    {
     "name": "stdout",
     "output_type": "stream",
     "text": [
      "   symboling  normalized-losses         make fuel-type aspiration  \\\n",
      "0          3                NaN  alfa-romero       gas        std   \n",
      "1          3                NaN  alfa-romero       gas        std   \n",
      "2          1                NaN  alfa-romero       gas        std   \n",
      "3          2                164         audi       gas        std   \n",
      "4          2                164         audi       gas        std   \n",
      "\n",
      "  num-of-doors   body-style drive-wheels engine-location  wheel-base  ...    \\\n",
      "0          two  convertible          rwd           front        88.6  ...     \n",
      "1          two  convertible          rwd           front        88.6  ...     \n",
      "2          two    hatchback          rwd           front        94.5  ...     \n",
      "3         four        sedan          fwd           front        99.8  ...     \n",
      "4         four        sedan          4wd           front        99.4  ...     \n",
      "\n",
      "   engine-size  fuel-system  bore  stroke compression-ratio horsepower  \\\n",
      "0          130         mpfi  3.47    2.68                 9        111   \n",
      "1          130         mpfi  3.47    2.68                 9        111   \n",
      "2          152         mpfi  2.68    3.47                 9        154   \n",
      "3          109         mpfi  3.19    3.40                10        102   \n",
      "4          136         mpfi  3.19    3.40                 8        115   \n",
      "\n",
      "   peak-rpm city-mpg  highway-mpg  price  \n",
      "0      5000       21           27  13495  \n",
      "1      5000       21           27  16500  \n",
      "2      5000       19           26  16500  \n",
      "3      5500       24           30  13950  \n",
      "4      5500       18           22  17450  \n",
      "\n",
      "[5 rows x 26 columns]\n"
     ]
    }
   ],
   "source": [
    "print(dataset.head())"
   ]
  },
  {
   "cell_type": "code",
   "execution_count": 3,
   "metadata": {
    "collapsed": false
   },
   "outputs": [
    {
     "data": {
      "text/plain": [
       "symboling              int64\n",
       "normalized-losses    float64\n",
       "make                  object\n",
       "fuel-type             object\n",
       "aspiration            object\n",
       "num-of-doors          object\n",
       "body-style            object\n",
       "drive-wheels          object\n",
       "engine-location       object\n",
       "wheel-base           float64\n",
       "length               float64\n",
       "width                float64\n",
       "height               float64\n",
       "curb-weight            int64\n",
       "engine-type           object\n",
       "num-of-cylinders      object\n",
       "engine-size            int64\n",
       "fuel-system           object\n",
       "bore                 float64\n",
       "stroke               float64\n",
       "compression-ratio    float64\n",
       "horsepower           float64\n",
       "peak-rpm             float64\n",
       "city-mpg               int64\n",
       "highway-mpg            int64\n",
       "price                float64\n",
       "dtype: object"
      ]
     },
     "execution_count": 3,
     "metadata": {},
     "output_type": "execute_result"
    }
   ],
   "source": [
    "dataset.dtypes"
   ]
  },
  {
   "cell_type": "code",
   "execution_count": 4,
   "metadata": {
    "collapsed": false
   },
   "outputs": [
    {
     "data": {
      "text/plain": [
       "(205, 66)"
      ]
     },
     "execution_count": 4,
     "metadata": {},
     "output_type": "execute_result"
    }
   ],
   "source": [
    "from sklearn.preprocessing import LabelEncoder\n",
    "\n",
    "\n",
    "words_to_nums = {'two':2, 'three':3, 'four':4, 'five':5, \n",
    "                 'six':6, 'eight':8, 'twelve':12}\n",
    "\n",
    "columns_to_map = ['num-of-cylinders', 'num-of-doors']\n",
    "columns_to_dummy = ['make', 'body-style', 'drive-wheels', \n",
    "                    'engine-type', 'fuel-system']\n",
    "columns_to_label_encode = ['fuel-type', 'aspiration', \n",
    "                           'engine-location']\n",
    "\n",
    "for col in columns_to_map:\n",
    "    dataset[col] = dataset[col].map(pd.Series(words_to_nums))\n",
    "\n",
    "for col in columns_to_label_encode:\n",
    "    dataset[col] = LabelEncoder().fit_transform(dataset[col])\n",
    "\n",
    "dataset = pd.get_dummies(dataset, columns=columns_to_dummy)\n",
    "\n",
    "dataset.shape"
   ]
  },
  {
   "cell_type": "code",
   "execution_count": 5,
   "metadata": {
    "collapsed": true
   },
   "outputs": [],
   "source": [
    "ranks = dataset['symboling'].as_matrix()\n",
    "observations = dataset.drop('symboling', axis=1).as_matrix()"
   ]
  },
  {
   "cell_type": "code",
   "execution_count": 6,
   "metadata": {
    "collapsed": false
   },
   "outputs": [],
   "source": [
    "#observations still contain NaN -> substitute it with the median\n",
    "from sklearn.preprocessing import Imputer\n",
    "imp = Imputer(strategy=\"median\", axis=0)\n",
    "observations = imp.fit_transform(observations)"
   ]
  },
  {
   "cell_type": "code",
   "execution_count": 7,
   "metadata": {
    "collapsed": false
   },
   "outputs": [
    {
     "data": {
      "text/plain": [
       "(205, 65)"
      ]
     },
     "execution_count": 7,
     "metadata": {},
     "output_type": "execute_result"
    }
   ],
   "source": [
    "observations.shape"
   ]
  },
  {
   "cell_type": "code",
   "execution_count": 8,
   "metadata": {
    "collapsed": false
   },
   "outputs": [],
   "source": [
    "from sklearn.cross_validation import StratifiedKFold\n",
    "\n",
    "kf = StratifiedKFold(ranks, 4, shuffle=True, random_state=101)\n",
    "idxs = list(kf)[0]\n",
    "\n",
    "X_train = observations[idxs[0], :]\n",
    "X_test = observations[idxs[1], :]\n",
    "y_train = ranks[idxs[0]]\n",
    "y_test = ranks[idxs[1]]\n"
   ]
  },
  {
   "cell_type": "code",
   "execution_count": 9,
   "metadata": {
    "collapsed": false
   },
   "outputs": [],
   "source": [
    "def prediction_to_probas(class_pred):\n",
    "    \n",
    "    probas = []\n",
    "    for el in class_pred:\n",
    "        prob = [0.]*6\n",
    "        prob[el+2] = 1.0\n",
    "        probas.append(prob)\n",
    "    return np.array(probas)\n",
    "\n",
    "def check_estimator(estimator):\n",
    "        assert sum(\n",
    "            np.abs(clf.classes_ - np.array([-2, -1, 0, 1, 2, 3]))\n",
    "        ) == 0"
   ]
  },
  {
   "cell_type": "code",
   "execution_count": 10,
   "metadata": {
    "collapsed": false
   },
   "outputs": [],
   "source": [
    "from sklearn.linear_model import LogisticRegression\n",
    "\n",
    "clf = LogisticRegression(random_state=101)\n",
    "clf.fit(X_train, y_train)\n",
    "check_estimator(clf)\n",
    "\n",
    "y_test_proba = prediction_to_probas(y_test)\n",
    "y_pred_proba = clf.predict_proba(X_test)"
   ]
  },
  {
   "cell_type": "code",
   "execution_count": 11,
   "metadata": {
    "collapsed": false
   },
   "outputs": [
    {
     "name": "stdout",
     "output_type": "stream",
     "text": [
      "Ranking loss: 0.101886792453\n",
      "Ranking avg precision: 0.817610062893\n"
     ]
    }
   ],
   "source": [
    "from sklearn.metrics import label_ranking_average_precision_score\n",
    "from sklearn.metrics import label_ranking_loss\n",
    "\n",
    "print(\"Ranking loss:\", label_ranking_loss(y_test_proba, y_pred_proba))\n",
    "print(\"Ranking avg precision:\", label_ranking_average_precision_score(y_test_proba, y_pred_proba))"
   ]
  },
  {
   "cell_type": "code",
   "execution_count": 12,
   "metadata": {
    "collapsed": false
   },
   "outputs": [
    {
     "name": "stdout",
     "output_type": "stream",
     "text": [
      "Ranking loss: 0.0905660377358\n",
      "Ranking avg precision: 0.838050314465\n"
     ]
    }
   ],
   "source": [
    "from sklearn.grid_search import GridSearchCV\n",
    "from sklearn.metrics import make_scorer\n",
    "from sklearn.cross_validation import StratifiedShuffleSplit\n",
    "\n",
    "def scorer(estimator, X, y):\n",
    "    \n",
    "    check_estimator(estimator)\n",
    "    y_proba = prediction_to_probas(y)\n",
    "    return -1*label_ranking_loss(y_proba, estimator.predict_proba(X))\n",
    "\n",
    "\n",
    "params = {'C': np.logspace(-1, 1, 10)\n",
    "         }\n",
    "\n",
    "\n",
    "cv = StratifiedShuffleSplit(y_train, random_state=101, \n",
    "                            n_iter=5, train_size=0.70)\n",
    "gs_cv = GridSearchCV(LogisticRegression(random_state=101),\n",
    "                     param_grid=params,\n",
    "                     n_jobs=1,\n",
    "                     cv=cv,\n",
    "                     scoring=scorer)\n",
    "\n",
    "gs_cv.fit(X_train, y_train)\n",
    "clf = gs_cv.best_estimator_\n",
    "\n",
    "y_pred_proba = clf.predict_proba(X_test)\n",
    "\n",
    "print(\"Ranking loss:\", label_ranking_loss(y_test_proba, y_pred_proba))\n",
    "print(\"Ranking avg precision:\", label_ranking_average_precision_score(y_test_proba, y_pred_proba))"
   ]
  },
  {
   "cell_type": "code",
   "execution_count": 13,
   "metadata": {
    "collapsed": false
   },
   "outputs": [
    {
     "data": {
      "image/png": "[encoded data removed]",
      "text/plain": [
       "<matplotlib.figure.Figure at 0x10e125b38>"
      ]
     },
     "metadata": {},
     "output_type": "display_data"
    }
   ],
   "source": [
    "from sklearn.metrics import confusion_matrix\n",
    "\n",
    "def plot_normalised_confusion_matrix(cm):\n",
    "    labels_str = [str(n) for n in range(-2, 4)]\n",
    "    pylab.rcParams['figure.figsize'] = (6.0, 6.0)\n",
    "    cm_normalized = cm.astype('float') / cm.sum(axis=1)[:, np.newaxis]\n",
    "    plt.imshow(cm_normalized, interpolation='nearest', cmap=plt.cm.Blues)\n",
    "    plt.colorbar()\n",
    "    tick_marks = np.arange(len(labels_str))\n",
    "    plt.xticks(tick_marks, labels_str, rotation=90)\n",
    "    plt.yticks(tick_marks, labels_str)\n",
    "    plt.tight_layout()\n",
    "    plt.ylabel('True label')\n",
    "    plt.xlabel('Predicted label')\n",
    "    plt.show()\n",
    "\n",
    "plot_normalised_confusion_matrix(confusion_matrix(y_test, clf.predict(X_test)))\n",
    "\n"
   ]
  },
  {
   "cell_type": "code",
   "execution_count": null,
   "metadata": {
    "collapsed": true
   },
   "outputs": [],
   "source": []
  }
 ],
 "metadata": {
  "kernelspec": {
   "display_name": "Python 3",
   "language": "python",
   "name": "python3"
  },
  "language_info": {
   "codemirror_mode": {
    "name": "ipython",
    "version": 3
   },
   "file_extension": ".py",
   "mimetype": "text/x-python",
   "name": "python",
   "nbconvert_exporter": "python",
   "pygments_lexer": "ipython3",
   "version": "3.5.1"
  }
 },
 "nbformat": 4,
 "nbformat_minor": 0
}
