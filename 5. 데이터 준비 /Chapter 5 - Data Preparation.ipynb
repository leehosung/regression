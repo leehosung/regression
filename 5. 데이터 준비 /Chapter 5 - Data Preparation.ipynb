{
 "cells": [
  {
   "cell_type": "markdown",
   "metadata": {},
   "source": [
    "# Numeric features scaling"
   ]
  },
  {
   "cell_type": "markdown",
   "metadata": {},
   "source": [
    "## Preparation of data"
   ]
  },
  {
   "cell_type": "code",
   "execution_count": 1,
   "metadata": {
    "collapsed": true,
    "jupyter": {
     "outputs_hidden": true
    }
   },
   "outputs": [],
   "source": [
    "import numpy as np\n",
    "import pandas as pd\n",
    "import matplotlib.pyplot as plt\n",
    "import matplotlib as mpl\n",
    "from sklearn.datasets import load_boston\n",
    "from sklearn import linear_model"
   ]
  },
  {
   "cell_type": "code",
   "execution_count": 2,
   "metadata": {
    "collapsed": true,
    "jupyter": {
     "outputs_hidden": true
    }
   },
   "outputs": [],
   "source": [
    "%matplotlib inline\n",
    "# If you are using IPython, this will make the images available in the notebook"
   ]
  },
  {
   "cell_type": "code",
   "execution_count": 3,
   "metadata": {
    "collapsed": true,
    "jupyter": {
     "outputs_hidden": true
    }
   },
   "outputs": [],
   "source": [
    "np.set_printoptions(precision=5, suppress=True) # sets float output to 5 decimals"
   ]
  },
  {
   "cell_type": "code",
   "execution_count": 4,
   "metadata": {
    "collapsed": false,
    "jupyter": {
     "outputs_hidden": false
    }
   },
   "outputs": [],
   "source": [
    "boston = load_boston() \n",
    "dataset = pd.DataFrame(boston.data, columns=boston.feature_names)\n",
    "dataset['target'] = boston.target\n",
    "observations = len(dataset)\n",
    "variables = dataset.columns[:-1]\n",
    "X = dataset.ix[:,:-1]\n",
    "y = dataset['target'].values"
   ]
  },
  {
   "cell_type": "code",
   "execution_count": 5,
   "metadata": {
    "collapsed": true,
    "jupyter": {
     "outputs_hidden": true
    }
   },
   "outputs": [],
   "source": [
    "yq = np.array(y>25, dtype=int)"
   ]
  },
  {
   "cell_type": "markdown",
   "metadata": {},
   "source": [
    "## Numeric features scaling "
   ]
  },
  {
   "cell_type": "code",
   "execution_count": 6,
   "metadata": {
    "collapsed": false,
    "jupyter": {
     "outputs_hidden": false
    }
   },
   "outputs": [
    {
     "name": "stdout",
     "output_type": "stream",
     "text": [
      "coefficients: [ -0.10717   0.0464    0.02086   2.68856 -17.79576   3.80475   0.00075\n",
      "  -1.47576   0.30566  -0.01233  -0.95346   0.00939  -0.52547]\n",
      "intercept: 36.491\n"
     ]
    }
   ],
   "source": [
    "from sklearn.preprocessing import StandardScaler\n",
    "from sklearn.preprocessing import MinMaxScaler\n",
    "linear_regression = linear_model.LinearRegression(normalize=False, fit_intercept=True)\n",
    "linear_regression.fit(X,y)\n",
    "print (\"coefficients: %s\\nintercept: %0.3f\" % (linear_regression.coef_,linear_regression.intercept_))"
   ]
  },
  {
   "cell_type": "code",
   "execution_count": 7,
   "metadata": {
    "collapsed": false,
    "jupyter": {
     "outputs_hidden": false
    }
   },
   "outputs": [
    {
     "data": {
      "text/plain": [
       "CRIM         0.00632\n",
       "ZN           0.00000\n",
       "INDUS        0.46000\n",
       "CHAS         0.00000\n",
       "NOX          0.38500\n",
       "RM           3.56100\n",
       "AGE          2.90000\n",
       "DIS          1.12960\n",
       "RAD          1.00000\n",
       "TAX        187.00000\n",
       "PTRATIO     12.60000\n",
       "B            0.32000\n",
       "LSTAT        1.73000\n",
       "target       5.00000\n",
       "dtype: float64"
      ]
     },
     "execution_count": 7,
     "metadata": {},
     "output_type": "execute_result"
    }
   ],
   "source": [
    "dataset.min()"
   ]
  },
  {
   "cell_type": "markdown",
   "metadata": {},
   "source": [
    "### Mean Centering"
   ]
  },
  {
   "cell_type": "code",
   "execution_count": 8,
   "metadata": {
    "collapsed": false,
    "jupyter": {
     "outputs_hidden": false
    }
   },
   "outputs": [
    {
     "name": "stdout",
     "output_type": "stream",
     "text": [
      "coefficients: [ -0.10717   0.0464    0.02086   2.68856 -17.79576   3.80475   0.00075\n",
      "  -1.47576   0.30566  -0.01233  -0.95346   0.00939  -0.52547]\n",
      "intercept: 22.533\n"
     ]
    }
   ],
   "source": [
    "centering = StandardScaler(with_mean=True, with_std=False)\n",
    "linear_regression.fit(centering.fit_transform(X),y)\n",
    "print (\"coefficients: %s\\nintercept: %0.3f\" % (linear_regression.coef_,linear_regression.intercept_))"
   ]
  },
  {
   "cell_type": "code",
   "execution_count": 9,
   "metadata": {
    "collapsed": false,
    "jupyter": {
     "outputs_hidden": false
    }
   },
   "outputs": [
    {
     "name": "stdout",
     "output_type": "stream",
     "text": [
      "mean: 22.533\n"
     ]
    }
   ],
   "source": [
    "print ('mean: %0.3f' % np.mean(y))"
   ]
  },
  {
   "cell_type": "markdown",
   "metadata": {},
   "source": [
    "### Standardization"
   ]
  },
  {
   "cell_type": "code",
   "execution_count": 10,
   "metadata": {
    "collapsed": false,
    "jupyter": {
     "outputs_hidden": false
    }
   },
   "outputs": [
    {
     "name": "stdout",
     "output_type": "stream",
     "text": [
      "coefficients: [-0.92041  1.08098  0.14297  0.6822  -2.06009  2.67064  0.02112 -3.10445\n",
      "  2.65879 -2.0759  -2.06216  0.85664 -3.74868]\n",
      "intercept: 22.533\n"
     ]
    }
   ],
   "source": [
    "standardization = StandardScaler(with_mean=True, with_std=True)\n",
    "linear_regression.fit(standardization.fit_transform(X),y)\n",
    "print (\"coefficients: %s\\nintercept: %0.3f\" % (linear_regression.coef_,linear_regression.intercept_))"
   ]
  },
  {
   "cell_type": "markdown",
   "metadata": {},
   "source": [
    "### Normalization"
   ]
  },
  {
   "cell_type": "code",
   "execution_count": 11,
   "metadata": {
    "collapsed": false,
    "jupyter": {
     "outputs_hidden": false
    },
    "scrolled": true
   },
   "outputs": [
    {
     "name": "stdout",
     "output_type": "stream",
     "text": [
      "coefficients: [ -9.53495   4.63952   0.56907   2.68856  -8.64874  19.857     0.07293\n",
      " -16.22877   7.03007  -6.46058  -8.96256   3.72488 -19.04291]\n",
      "intercept: 26.613\n"
     ]
    }
   ],
   "source": [
    "scaling  = MinMaxScaler(feature_range=(0, 1))\n",
    "linear_regression.fit(scaling.fit_transform(X),y)\n",
    "print (\"coefficients: %s\\nintercept: %0.3f\" % (linear_regression.coef_,linear_regression.intercept_))"
   ]
  },
  {
   "cell_type": "markdown",
   "metadata": {},
   "source": [
    "### The logistic regression case"
   ]
  },
  {
   "cell_type": "code",
   "execution_count": 12,
   "metadata": {
    "collapsed": false,
    "jupyter": {
     "outputs_hidden": false
    }
   },
   "outputs": [
    {
     "name": "stdout",
     "output_type": "stream",
     "text": [
      "Optimization terminated successfully.\n",
      "         Current function value: 0.206632\n",
      "         Iterations 9\n",
      "                           Logit Regression Results                           \n",
      "==============================================================================\n",
      "Dep. Variable:                      y   No. Observations:                  506\n",
      "Model:                          Logit   Df Residuals:                      492\n",
      "Method:                           MLE   Df Model:                           13\n",
      "Date:                Mon, 21 Dec 2015   Pseudo R-squ.:                  0.6289\n",
      "Time:                        22:29:09   Log-Likelihood:                -104.56\n",
      "converged:                       True   LL-Null:                       -281.76\n",
      "                                        LLR p-value:                 9.147e-68\n",
      "==============================================================================\n",
      "                 coef    std err          z      P>|z|      [95.0% Conf. Int.]\n",
      "------------------------------------------------------------------------------\n",
      "const         -3.0541      0.356     -8.572      0.000        -3.752    -2.356\n",
      "x1            -0.0949      0.389     -0.244      0.807        -0.857     0.667\n",
      "x2             0.2543      0.252      1.008      0.314        -0.240     0.749\n",
      "x3            -0.7570      0.403     -1.880      0.060        -1.546     0.032\n",
      "x4             0.2452      0.205      1.195      0.232        -0.157     0.648\n",
      "x5            -0.7924      0.519     -1.527      0.127        -1.810     0.225\n",
      "x6             1.3244      0.318      4.168      0.000         0.702     1.947\n",
      "x7             0.0982      0.313      0.314      0.754        -0.515     0.712\n",
      "x8            -1.2390      0.345     -3.591      0.000        -1.915    -0.563\n",
      "x9             2.7664      0.719      3.849      0.000         1.358     4.175\n",
      "x10           -1.8228      0.680     -2.682      0.007        -3.155    -0.491\n",
      "x11           -0.7635      0.264     -2.888      0.004        -1.282    -0.245\n",
      "x12           -0.2062      0.349     -0.591      0.554        -0.890     0.477\n",
      "x13           -2.6208      0.521     -5.031      0.000        -3.642    -1.600\n",
      "==============================================================================\n"
     ]
    }
   ],
   "source": [
    "import statsmodels.api as sm\n",
    "Xq = sm.add_constant(standardization.fit_transform(X))\n",
    "logit = sm.Logit(yq, Xq)\n",
    "result = logit.fit()\n",
    "print (result.summary())"
   ]
  },
  {
   "cell_type": "code",
   "execution_count": 13,
   "metadata": {
    "collapsed": false,
    "jupyter": {
     "outputs_hidden": false
    }
   },
   "outputs": [
    {
     "name": "stdout",
     "output_type": "stream",
     "text": [
      "odd ratios of coefficients: [  0.04717   0.90948   1.2896    0.46908   1.2779    0.45277   3.75996\n",
      "   1.10314   0.28966  15.9012    0.16158   0.46602   0.81363   0.07275]\n"
     ]
    }
   ],
   "source": [
    "print ('odd ratios of coefficients: %s' % np.exp(result.params))"
   ]
  },
  {
   "cell_type": "code",
   "execution_count": 14,
   "metadata": {
    "collapsed": false,
    "jupyter": {
     "outputs_hidden": false
    }
   },
   "outputs": [
    {
     "name": "stdout",
     "output_type": "stream",
     "text": [
      "intercept: -3.054\n",
      "probability of value above 25 when all predictors are average: 0.045\n"
     ]
    }
   ],
   "source": [
    "def sigmoid(p):\n",
    "  return 1 / (1 + np.exp(-p))\n",
    "\n",
    "print ('intercept: %0.3f' % result.params[0])\n",
    "print ('probability of value above 25 when all predictors are average: %0.3f' % sigmoid(result.params[0]))"
   ]
  },
  {
   "cell_type": "code",
   "execution_count": 15,
   "metadata": {
    "collapsed": false,
    "jupyter": {
     "outputs_hidden": false
    }
   },
   "outputs": [
    {
     "name": "stdout",
     "output_type": "stream",
     "text": [
      "average likelihood of positive response: 0.245\n"
     ]
    }
   ],
   "source": [
    "print ('average likelihood of positive response: %0.3f' % (sum(yq) / float(len(yq))))"
   ]
  },
  {
   "cell_type": "code",
   "execution_count": 16,
   "metadata": {
    "collapsed": false,
    "jupyter": {
     "outputs_hidden": false
    }
   },
   "outputs": [
    {
     "name": "stdout",
     "output_type": "stream",
     "text": [
      "Optimization terminated successfully.\n",
      "         Current function value: 0.556842\n",
      "         Iterations 5\n",
      "                           Logit Regression Results                           \n",
      "==============================================================================\n",
      "Dep. Variable:                      y   No. Observations:                  506\n",
      "Model:                          Logit   Df Residuals:                      505\n",
      "Method:                           MLE   Df Model:                            0\n",
      "Date:                Mon, 21 Dec 2015   Pseudo R-squ.:                   0.000\n",
      "Time:                        22:29:09   Log-Likelihood:                -281.76\n",
      "converged:                       True   LL-Null:                       -281.76\n",
      "                                        LLR p-value:                       nan\n",
      "==============================================================================\n",
      "                 coef    std err          z      P>|z|      [95.0% Conf. Int.]\n",
      "------------------------------------------------------------------------------\n",
      "const         -1.1251      0.103    -10.886      0.000        -1.328    -0.923\n",
      "==============================================================================\n",
      "\n",
      "probability of value above 25 using just a constant: 0.245\n"
     ]
    }
   ],
   "source": [
    "C = np.ones(len(X))\n",
    "logit = sm.Logit(yq, C)\n",
    "result = logit.fit()\n",
    "print (result.summary())\n",
    "print ('\\nprobability of value above 25 using just a constant: %0.3f' % sigmoid(result.params[0]))"
   ]
  },
  {
   "cell_type": "markdown",
   "metadata": {},
   "source": [
    "# Qualitative features encoding"
   ]
  },
  {
   "cell_type": "code",
   "execution_count": 17,
   "metadata": {
    "collapsed": false,
    "jupyter": {
     "outputs_hidden": false
    }
   },
   "outputs": [],
   "source": [
    "outlook     = ['sunny', 'overcast', 'rainy']\n",
    "temperature = ['hot', 'mild', 'cool']\n",
    "humidity    = ['high', 'normal']\n",
    "windy       = ['TRUE', 'FALSE']\n",
    "\n",
    "weather_dataset = list()\n",
    "\n",
    "for o in outlook:\n",
    "    for t in temperature:\n",
    "        for h in humidity:\n",
    "            for w in windy:\n",
    "                weather_dataset.append([o,t,h,w])\n",
    "\n",
    "play = [0, 0, 1, 1, 1, 0, 1, 1, 0, 0, 0, 1, 1, 1, 1, 1, 1, 1, 1, 1, 0, 0, 1, 1, 0, 0, 0, 1, 0, 1, 0, 1, 0, 0, 0, 1]"
   ]
  },
  {
   "cell_type": "markdown",
   "metadata": {},
   "source": [
    "## Dummy coding"
   ]
  },
  {
   "cell_type": "code",
   "execution_count": 18,
   "metadata": {
    "collapsed": false,
    "jupyter": {
     "outputs_hidden": false
    }
   },
   "outputs": [],
   "source": [
    "import pandas as pd\n",
    "df = pd.DataFrame(weather_dataset, columns=['outlook', 'temperature', 'humidity', 'windy'])"
   ]
  },
  {
   "cell_type": "code",
   "execution_count": 19,
   "metadata": {
    "collapsed": false,
    "jupyter": {
     "outputs_hidden": false
    }
   },
   "outputs": [
    {
     "name": "stdout",
     "output_type": "stream",
     "text": [
      "   high  normal\n",
      "0     1       0\n",
      "1     1       0\n",
      "2     0       1\n",
      "3     0       1\n",
      "4     1       0\n",
      "5     1       0\n"
     ]
    }
   ],
   "source": [
    "print (pd.get_dummies(df.humidity).ix[:5,:])"
   ]
  },
  {
   "cell_type": "code",
   "execution_count": 20,
   "metadata": {
    "collapsed": false,
    "jupyter": {
     "outputs_hidden": false
    }
   },
   "outputs": [],
   "source": [
    "dummy_encoding = pd.get_dummies(df)"
   ]
  },
  {
   "cell_type": "code",
   "execution_count": 21,
   "metadata": {
    "collapsed": false,
    "jupyter": {
     "outputs_hidden": false
    }
   },
   "outputs": [
    {
     "name": "stdout",
     "output_type": "stream",
     "text": [
      "Optimization terminated successfully.\n",
      "         Current function value: 0.292346\n",
      "         Iterations 32\n",
      "                           Logit Regression Results                           \n",
      "==============================================================================\n",
      "Dep. Variable:                      y   No. Observations:                   36\n",
      "Model:                          Logit   Df Residuals:                       29\n",
      "Method:                           MLE   Df Model:                            6\n",
      "Date:                Mon, 21 Dec 2015   Pseudo R-squ.:                  0.5744\n",
      "Time:                        22:29:10   Log-Likelihood:                -10.524\n",
      "converged:                       True   LL-Null:                       -24.731\n",
      "                                        LLR p-value:                 7.856e-05\n",
      "====================================================================================\n",
      "                       coef    std err          z      P>|z|      [95.0% Conf. Int.]\n",
      "------------------------------------------------------------------------------------\n",
      "const                0.2393   1.76e+07   1.36e-08      1.000     -3.44e+07  3.44e+07\n",
      "outlook_overcast     2.9833   6.69e+07   4.46e-08      1.000     -1.31e+08  1.31e+08\n",
      "outlook_rainy       -2.1746   6.69e+07  -3.25e-08      1.000     -1.31e+08  1.31e+08\n",
      "outlook_sunny       -0.5695   6.69e+07  -8.51e-09      1.000     -1.31e+08  1.31e+08\n",
      "temperature_cool    -2.1996      6e+07  -3.66e-08      1.000     -1.18e+08  1.18e+08\n",
      "temperature_hot      0.3045      6e+07   5.07e-09      1.000     -1.18e+08  1.18e+08\n",
      "temperature_mild     2.1344      6e+07   3.55e-08      1.000     -1.18e+08  1.18e+08\n",
      "humidity_high       -2.0459   2.24e+07  -9.15e-08      1.000     -4.38e+07  4.38e+07\n",
      "humidity_normal      2.2851   2.24e+07   1.02e-07      1.000     -4.38e+07  4.38e+07\n",
      "windy_FALSE          1.3162   4.47e+07   2.94e-08      1.000     -8.77e+07  8.77e+07\n",
      "windy_TRUE          -1.0770   4.47e+07  -2.41e-08      1.000     -8.77e+07  8.77e+07\n",
      "====================================================================================\n"
     ]
    }
   ],
   "source": [
    "import statsmodels.api as sm\n",
    "X = sm.add_constant(dummy_encoding)\n",
    "logit = sm.Logit(play, X)\n",
    "result = logit.fit()\n",
    "print (result.summary())"
   ]
  },
  {
   "cell_type": "code",
   "execution_count": 22,
   "metadata": {
    "collapsed": false,
    "jupyter": {
     "outputs_hidden": false
    }
   },
   "outputs": [
    {
     "name": "stdout",
     "output_type": "stream",
     "text": [
      "Optimization terminated successfully.\n",
      "         Current function value: 0.292346\n",
      "         Iterations 8\n",
      "                           Logit Regression Results                           \n",
      "==============================================================================\n",
      "Dep. Variable:                      y   No. Observations:                   36\n",
      "Model:                          Logit   Df Residuals:                       29\n",
      "Method:                           MLE   Df Model:                            6\n",
      "Date:                Mon, 21 Dec 2015   Pseudo R-squ.:                  0.5744\n",
      "Time:                        22:29:11   Log-Likelihood:                -10.524\n",
      "converged:                       True   LL-Null:                       -24.731\n",
      "                                        LLR p-value:                 7.856e-05\n",
      "====================================================================================\n",
      "                       coef    std err          z      P>|z|      [95.0% Conf. Int.]\n",
      "------------------------------------------------------------------------------------\n",
      "const                5.4055      2.196      2.462      0.014         1.102     9.709\n",
      "outlook_overcast     3.5528      1.721      2.064      0.039         0.179     6.927\n",
      "outlook_rainy       -1.6051      1.357     -1.183      0.237        -4.265     1.055\n",
      "temperature_cool    -4.3340      1.867     -2.322      0.020        -7.993    -0.675\n",
      "temperature_hot     -1.8299      1.478     -1.238      0.216        -4.727     1.067\n",
      "humidity_high       -4.3310      1.645     -2.633      0.008        -7.555    -1.107\n",
      "windy_TRUE          -2.3932      1.325     -1.807      0.071        -4.989     0.203\n",
      "====================================================================================\n"
     ]
    }
   ],
   "source": [
    "X.drop(['outlook_sunny', 'temperature_mild', 'humidity_normal', 'windy_FALSE'], inplace=True, axis=1)\n",
    "logit = sm.Logit(play, X)\n",
    "result = logit.fit()\n",
    "print (result.summary())"
   ]
  },
  {
   "cell_type": "markdown",
   "metadata": {},
   "source": [
    "## One-hot encoding"
   ]
  },
  {
   "cell_type": "code",
   "execution_count": 23,
   "metadata": {
    "collapsed": false,
    "jupyter": {
     "outputs_hidden": false
    }
   },
   "outputs": [
    {
     "name": "stdout",
     "output_type": "stream",
     "text": [
      "{'humidity': 'high', 'temperature': 'hot', 'windy': 'TRUE', 'outlook': 'sunny'}\n",
      "[[ 1.  0.  0.  0.  1.  0.  1.  0.  0.  1.]\n",
      " [ 1.  0.  0.  0.  1.  0.  1.  0.  1.  0.]\n",
      " [ 0.  1.  0.  0.  1.  0.  1.  0.  0.  1.]\n",
      " [ 0.  1.  0.  0.  1.  0.  1.  0.  1.  0.]\n",
      " [ 1.  0.  0.  0.  1.  0.  0.  1.  0.  1.]\n",
      " [ 1.  0.  0.  0.  1.  0.  0.  1.  1.  0.]\n",
      " [ 0.  1.  0.  0.  1.  0.  0.  1.  0.  1.]\n",
      " [ 0.  1.  0.  0.  1.  0.  0.  1.  1.  0.]\n",
      " [ 1.  0.  0.  0.  1.  1.  0.  0.  0.  1.]\n",
      " [ 1.  0.  0.  0.  1.  1.  0.  0.  1.  0.]\n",
      " [ 0.  1.  0.  0.  1.  1.  0.  0.  0.  1.]\n",
      " [ 0.  1.  0.  0.  1.  1.  0.  0.  1.  0.]\n",
      " [ 1.  0.  1.  0.  0.  0.  1.  0.  0.  1.]\n",
      " [ 1.  0.  1.  0.  0.  0.  1.  0.  1.  0.]\n",
      " [ 0.  1.  1.  0.  0.  0.  1.  0.  0.  1.]\n",
      " [ 0.  1.  1.  0.  0.  0.  1.  0.  1.  0.]\n",
      " [ 1.  0.  1.  0.  0.  0.  0.  1.  0.  1.]\n",
      " [ 1.  0.  1.  0.  0.  0.  0.  1.  1.  0.]\n",
      " [ 0.  1.  1.  0.  0.  0.  0.  1.  0.  1.]\n",
      " [ 0.  1.  1.  0.  0.  0.  0.  1.  1.  0.]\n",
      " [ 1.  0.  1.  0.  0.  1.  0.  0.  0.  1.]\n",
      " [ 1.  0.  1.  0.  0.  1.  0.  0.  1.  0.]\n",
      " [ 0.  1.  1.  0.  0.  1.  0.  0.  0.  1.]\n",
      " [ 0.  1.  1.  0.  0.  1.  0.  0.  1.  0.]\n",
      " [ 1.  0.  0.  1.  0.  0.  1.  0.  0.  1.]\n",
      " [ 1.  0.  0.  1.  0.  0.  1.  0.  1.  0.]\n",
      " [ 0.  1.  0.  1.  0.  0.  1.  0.  0.  1.]\n",
      " [ 0.  1.  0.  1.  0.  0.  1.  0.  1.  0.]\n",
      " [ 1.  0.  0.  1.  0.  0.  0.  1.  0.  1.]\n",
      " [ 1.  0.  0.  1.  0.  0.  0.  1.  1.  0.]\n",
      " [ 0.  1.  0.  1.  0.  0.  0.  1.  0.  1.]\n",
      " [ 0.  1.  0.  1.  0.  0.  0.  1.  1.  0.]\n",
      " [ 1.  0.  0.  1.  0.  1.  0.  0.  0.  1.]\n",
      " [ 1.  0.  0.  1.  0.  1.  0.  0.  1.  0.]\n",
      " [ 0.  1.  0.  1.  0.  1.  0.  0.  0.  1.]\n",
      " [ 0.  1.  0.  1.  0.  1.  0.  0.  1.  0.]]\n"
     ]
    }
   ],
   "source": [
    "from sklearn.feature_extraction import DictVectorizer\n",
    "vectorizer = DictVectorizer(sparse = False)\n",
    "dict_representation = [{varname:var for var, varname in zip(row,['outlook', 'temperature', 'humidity', 'windy'])} for row in weather_dataset]\n",
    "print (dict_representation[0])\n",
    "print (vectorizer.fit_transform(dict_representation))"
   ]
  },
  {
   "cell_type": "code",
   "execution_count": 24,
   "metadata": {
    "collapsed": false,
    "jupyter": {
     "outputs_hidden": false
    }
   },
   "outputs": [
    {
     "name": "stdout",
     "output_type": "stream",
     "text": [
      "['humidity=high', 'humidity=normal', 'outlook=overcast', 'outlook=rainy', 'outlook=sunny', 'temperature=cool', 'temperature=hot', 'temperature=mild', 'windy=FALSE', 'windy=TRUE']\n"
     ]
    }
   ],
   "source": [
    "print (vectorizer.feature_names_)"
   ]
  },
  {
   "cell_type": "code",
   "execution_count": 25,
   "metadata": {
    "collapsed": false,
    "jupyter": {
     "outputs_hidden": false
    },
    "scrolled": true
   },
   "outputs": [
    {
     "name": "stdout",
     "output_type": "stream",
     "text": [
      "[2 2 2 2 2 2 2 2 2 2 2 2 0 0 0 0 0 0 0 0 0 0 0 0 1 1 1 1 1 1 1 1 1 1 1 1]\n"
     ]
    }
   ],
   "source": [
    "from sklearn.preprocessing import LabelEncoder, LabelBinarizer\n",
    "label_encoder = LabelEncoder()\n",
    "print (label_encoder.fit_transform(df.outlook))"
   ]
  },
  {
   "cell_type": "code",
   "execution_count": 26,
   "metadata": {
    "collapsed": false,
    "jupyter": {
     "outputs_hidden": false
    }
   },
   "outputs": [
    {
     "data": {
      "text/plain": [
       "array(['overcast', 'rainy', 'sunny'], dtype=object)"
      ]
     },
     "execution_count": 26,
     "metadata": {},
     "output_type": "execute_result"
    }
   ],
   "source": [
    "label_encoder.inverse_transform([0,1,2])"
   ]
  },
  {
   "cell_type": "code",
   "execution_count": 27,
   "metadata": {
    "collapsed": false,
    "jupyter": {
     "outputs_hidden": false
    }
   },
   "outputs": [
    {
     "name": "stdout",
     "output_type": "stream",
     "text": [
      "['overcast' 'rainy' 'sunny']\n"
     ]
    }
   ],
   "source": [
    "print (label_encoder.classes_)"
   ]
  },
  {
   "cell_type": "code",
   "execution_count": 28,
   "metadata": {
    "collapsed": false,
    "jupyter": {
     "outputs_hidden": false
    }
   },
   "outputs": [
    {
     "name": "stdout",
     "output_type": "stream",
     "text": [
      "[[0 0 1]\n",
      " [0 0 1]\n",
      " [0 0 1]\n",
      " [0 0 1]\n",
      " [0 0 1]\n",
      " [0 0 1]\n",
      " [0 0 1]\n",
      " [0 0 1]\n",
      " [0 0 1]\n",
      " [0 0 1]\n",
      " [0 0 1]\n",
      " [0 0 1]\n",
      " [1 0 0]\n",
      " [1 0 0]\n",
      " [1 0 0]\n",
      " [1 0 0]\n",
      " [1 0 0]\n",
      " [1 0 0]\n",
      " [1 0 0]\n",
      " [1 0 0]\n",
      " [1 0 0]\n",
      " [1 0 0]\n",
      " [1 0 0]\n",
      " [1 0 0]\n",
      " [0 1 0]\n",
      " [0 1 0]\n",
      " [0 1 0]\n",
      " [0 1 0]\n",
      " [0 1 0]\n",
      " [0 1 0]\n",
      " [0 1 0]\n",
      " [0 1 0]\n",
      " [0 1 0]\n",
      " [0 1 0]\n",
      " [0 1 0]\n",
      " [0 1 0]]\n"
     ]
    }
   ],
   "source": [
    "label_binarizer = LabelBinarizer(neg_label=0, pos_label=1, sparse_output=False)\n",
    "print (label_binarizer.fit_transform(label_encoder.fit_transform(df.outlook)))"
   ]
  },
  {
   "cell_type": "markdown",
   "metadata": {},
   "source": [
    "## Feature Hasher"
   ]
  },
  {
   "cell_type": "code",
   "execution_count": 29,
   "metadata": {
    "collapsed": false,
    "jupyter": {
     "outputs_hidden": false
    }
   },
   "outputs": [
    {
     "name": "stdout",
     "output_type": "stream",
     "text": [
      "{'sunt': 0, 'nomina': 1, 'rerum': 2, 'consequentia': 3}\n"
     ]
    }
   ],
   "source": [
    "your_text = 'Nomina sunt consequentia rerum'\n",
    "mapping_words_in_text = {word:position for position, word in enumerate(set(your_text.lower().split(' ')))}\n",
    "print (mapping_words_in_text)"
   ]
  },
  {
   "cell_type": "code",
   "execution_count": 30,
   "metadata": {
    "collapsed": true,
    "jupyter": {
     "outputs_hidden": true
    }
   },
   "outputs": [],
   "source": [
    "corpus = ['The quick fox jumped over the lazy dog', 'I sought a dog wondering around with a bird', 'My dog is named Fido']"
   ]
  },
  {
   "cell_type": "code",
   "execution_count": 31,
   "metadata": {
    "collapsed": false,
    "jupyter": {
     "outputs_hidden": false
    }
   },
   "outputs": [
    {
     "name": "stdout",
     "output_type": "stream",
     "text": [
      "[[0 0 1 0 1 0 1 1 0 0 1 1 0 1 0 0]\n",
      " [1 1 1 0 0 0 0 0 0 0 0 0 1 0 1 1]\n",
      " [0 0 1 1 0 1 0 0 1 1 0 0 0 0 0 0]]\n"
     ]
    }
   ],
   "source": [
    "from sklearn.feature_extraction.text import CountVectorizer\n",
    "textual_one_hot_encoder = CountVectorizer(binary=True)\n",
    "textual_one_hot_encoder.fit(corpus)\n",
    "vectorized_text = textual_one_hot_encoder.transform(corpus)\n",
    "print(vectorized_text.todense())"
   ]
  },
  {
   "cell_type": "code",
   "execution_count": 32,
   "metadata": {
    "collapsed": false,
    "jupyter": {
     "outputs_hidden": false
    }
   },
   "outputs": [
    {
     "name": "stdout",
     "output_type": "stream",
     "text": [
      "['around', 'bird', 'dog', 'fido', 'fox', 'is', 'jumped', 'lazy', 'my', 'named', 'over', 'quick', 'sought', 'the', 'with', 'wondering']\n"
     ]
    }
   ],
   "source": [
    "print (textual_one_hot_encoder.get_feature_names())"
   ]
  },
  {
   "cell_type": "code",
   "execution_count": 33,
   "metadata": {
    "collapsed": false,
    "jupyter": {
     "outputs_hidden": false
    }
   },
   "outputs": [
    {
     "name": "stdout",
     "output_type": "stream",
     "text": [
      "[[0 0 0 0 0 0 0 0 0 0 0 0 0 0 0 0]]\n"
     ]
    }
   ],
   "source": [
    "print (textual_one_hot_encoder.transform(['John went home today']).todense())"
   ]
  },
  {
   "cell_type": "code",
   "execution_count": 34,
   "metadata": {
    "collapsed": false,
    "jupyter": {
     "outputs_hidden": false
    }
   },
   "outputs": [
    {
     "name": "stdout",
     "output_type": "stream",
     "text": [
      "[[ 1.  0.  0.  1.  1.  0.  0.  1.  0.  0.  0.]\n",
      " [ 0.  0.  0.  1.  0.  1.  0.  1.  1.  0.  0.]\n",
      " [ 0.  0.  0.  1.  0.  0.  0.  1.  1.  0.  0.]]\n"
     ]
    }
   ],
   "source": [
    "from sklearn.feature_extraction.text import HashingVectorizer\n",
    "hashing_trick = HashingVectorizer(n_features=11, binary=True, norm=None, non_negative=True)\n",
    "M = hashing_trick.transform(corpus)\n",
    "print (M.todense())"
   ]
  },
  {
   "cell_type": "code",
   "execution_count": 35,
   "metadata": {
    "collapsed": false,
    "jupyter": {
     "outputs_hidden": false
    }
   },
   "outputs": [
    {
     "name": "stdout",
     "output_type": "stream",
     "text": [
      "[[ 1.  1.  1.  0.  0.  0.  0.  0.  0.  0.  0.]]\n"
     ]
    }
   ],
   "source": [
    "print (hashing_trick.transform(['John went home today']).todense())"
   ]
  },
  {
   "cell_type": "markdown",
   "metadata": {},
   "source": [
    "# Numeric features transformation"
   ]
  },
  {
   "cell_type": "code",
   "execution_count": 36,
   "metadata": {
    "collapsed": false,
    "jupyter": {
     "outputs_hidden": false
    }
   },
   "outputs": [
    {
     "name": "stdout",
     "output_type": "stream",
     "text": [
      "Observations: 506\n",
      "['CRIM' 'ZN' 'INDUS' 'CHAS' 'NOX' 'RM' 'AGE' 'DIS' 'RAD' 'TAX' 'PTRATIO'\n",
      " 'B' 'LSTAT']\n"
     ]
    }
   ],
   "source": [
    "boston = load_boston() \n",
    "labels = boston.feature_names\n",
    "X = boston.data\n",
    "y = boston.target\n",
    "obs = len(y)\n",
    "print (\"Observations: %i\" % obs)\n",
    "print (boston.feature_names)"
   ]
  },
  {
   "cell_type": "code",
   "execution_count": 37,
   "metadata": {
    "collapsed": false,
    "jupyter": {
     "outputs_hidden": false
    }
   },
   "outputs": [
    {
     "name": "stdout",
     "output_type": "stream",
     "text": [
      "intercept : [ -0.10717   0.0464    0.02086   2.68856 -17.79576   3.80475   0.00075\n",
      "  -1.47576   0.30566  -0.01233  -0.95346   0.00939  -0.52547]\n",
      "intercept : 36.491\n"
     ]
    }
   ],
   "source": [
    "linear_regression = linear_model.LinearRegression(normalize=False, fit_intercept=True)\n",
    "linear_regression.fit(X, y)\n",
    "print ('intercept : %s' % linear_regression.coef_)\n",
    "print ('intercept : %0.3f' % linear_regression.intercept_)"
   ]
  },
  {
   "cell_type": "code",
   "execution_count": 38,
   "metadata": {
    "collapsed": false,
    "jupyter": {
     "outputs_hidden": false
    }
   },
   "outputs": [
    {
     "name": "stdout",
     "output_type": "stream",
     "text": [
      "R-squared: 0.741\n"
     ]
    }
   ],
   "source": [
    "from sklearn.metrics import r2_score\n",
    "print (\"R-squared: %0.3f\" % r2_score(y, linear_regression.predict(X)))"
   ]
  },
  {
   "cell_type": "markdown",
   "metadata": {},
   "source": [
    "## Observing residuals"
   ]
  },
  {
   "cell_type": "code",
   "execution_count": 39,
   "metadata": {
    "collapsed": false,
    "jupyter": {
     "outputs_hidden": false
    }
   },
   "outputs": [
    {
     "name": "stdout",
     "output_type": "stream",
     "text": [
      "Head of residual [-6.00821 -3.42986  4.12977  4.79186  8.25712]\n",
      "Mean of residuals: 0.000\n",
      "Standard deviation of residuals: 4.680\n"
     ]
    }
   ],
   "source": [
    "residuals = y - linear_regression.predict(X)\n",
    "print (\"Head of residual %s\" % residuals[:5])\n",
    "print (\"Mean of residuals: %0.3f\" % np.mean(residuals))\n",
    "print (\"Standard deviation of residuals: %0.3f\" % np.std(residuals))"
   ]
  },
  {
   "cell_type": "code",
   "execution_count": 40,
   "metadata": {
    "collapsed": false,
    "jupyter": {
     "outputs_hidden": false
    }
   },
   "outputs": [
    {
     "data": {
      "image/png": "[encoded data removed]",
      "text/plain": [
       "<matplotlib.figure.Figure at 0xa697278>"
      ]
     },
     "metadata": {},
     "output_type": "display_data"
    }
   ],
   "source": [
    "var = 7 # the variable in position 7 is DIS\n",
    "partial_residual = residuals + X[:,var] * linear_regression.coef_[var]\n",
    "scatter = plt.plot(X[:,var], partial_residual, 'wo')\n",
    "l = plt.xlabel(boston.feature_names[var])\n",
    "l = plt.ylabel('partial residuals')"
   ]
  },
  {
   "cell_type": "code",
   "execution_count": 41,
   "metadata": {
    "collapsed": false,
    "jupyter": {
     "outputs_hidden": false
    }
   },
   "outputs": [
    {
     "name": "stdout",
     "output_type": "stream",
     "text": [
      "R-squared: 0.769\n"
     ]
    },
    {
     "data": {
      "image/png": "[encoded data removed]",
      "text/plain": [
       "<matplotlib.figure.Figure at 0xaad6a90>"
      ]
     },
     "metadata": {},
     "output_type": "display_data"
    }
   ],
   "source": [
    "X_t = X.copy()\n",
    "X_t[:,var] = 1./np.sqrt(X_t[:,var])\n",
    "linear_regression.fit(X_t, y)\n",
    "partial_residual = residuals + X_t[:,var] * linear_regression.coef_[var]\n",
    "scatter = plt.plot(X_t[:,var], partial_residual, 'wo')\n",
    "l = plt.xlabel(boston.feature_names[var])\n",
    "l = plt.ylabel('partial residuals')\n",
    "print (\"R-squared: %0.3f\" % r2_score(y, linear_regression.predict(X_t)))"
   ]
  },
  {
   "cell_type": "markdown",
   "metadata": {},
   "source": [
    "## Binning"
   ]
  },
  {
   "cell_type": "code",
   "execution_count": 42,
   "metadata": {
    "collapsed": false,
    "jupyter": {
     "outputs_hidden": false
    }
   },
   "outputs": [
    {
     "name": "stdout",
     "output_type": "stream",
     "text": [
      "R-squared: 0.768\n"
     ]
    }
   ],
   "source": [
    "import numpy as np\n",
    "from sklearn.preprocessing import LabelBinarizer\n",
    "LB = LabelBinarizer()\n",
    "X_t = X.copy()\n",
    "edges = np.histogram(X_t[:,var], bins=20)[1]\n",
    "binning = np.digitize(X_t[:,var], edges)\n",
    "X_t = np.column_stack((np.delete(X_t, var, axis=1),LB.fit_transform(binning)))\n",
    "linear_regression.fit(X_t, y)\n",
    "print (\"R-squared: %0.3f\" % r2_score(y, linear_regression.predict(X_t)))"
   ]
  },
  {
   "cell_type": "markdown",
   "metadata": {},
   "source": [
    "# Missing data"
   ]
  },
  {
   "cell_type": "code",
   "execution_count": 43,
   "metadata": {
    "collapsed": false,
    "jupyter": {
     "outputs_hidden": false
    }
   },
   "outputs": [
    {
     "name": "stdout",
     "output_type": "stream",
     "text": [
      "[  1.   2.  nan   4.   5.]\n"
     ]
    }
   ],
   "source": [
    "example = np.array([1,2,np.nan,4,5])\n",
    "print (example)"
   ]
  },
  {
   "cell_type": "code",
   "execution_count": 44,
   "metadata": {
    "collapsed": false,
    "jupyter": {
     "outputs_hidden": false
    }
   },
   "outputs": [
    {
     "name": "stdout",
     "output_type": "stream",
     "text": [
      "[False False  True False False]\n"
     ]
    }
   ],
   "source": [
    "print (np.isnan(example))"
   ]
  },
  {
   "cell_type": "code",
   "execution_count": 45,
   "metadata": {
    "collapsed": false,
    "jupyter": {
     "outputs_hidden": false
    }
   },
   "outputs": [
    {
     "name": "stdout",
     "output_type": "stream",
     "text": [
      "[ 1.  2.  0.  4.  5.]\n"
     ]
    }
   ],
   "source": [
    "print (np.nan_to_num(example))"
   ]
  },
  {
   "cell_type": "code",
   "execution_count": 46,
   "metadata": {
    "collapsed": false,
    "jupyter": {
     "outputs_hidden": false
    }
   },
   "outputs": [
    {
     "name": "stdout",
     "output_type": "stream",
     "text": [
      "[ 1.  2.  3.  4.  5.]\n"
     ]
    }
   ],
   "source": [
    "missing = np.isnan(example)\n",
    "replacing_value = np.mean(example[~missing])\n",
    "example[missing] = replacing_value\n",
    "print (example)"
   ]
  },
  {
   "cell_type": "markdown",
   "metadata": {},
   "source": [
    "## Missing data imputation"
   ]
  },
  {
   "cell_type": "code",
   "execution_count": 47,
   "metadata": {
    "collapsed": false,
    "jupyter": {
     "outputs_hidden": false
    }
   },
   "outputs": [
    {
     "name": "stdout",
     "output_type": "stream",
     "text": [
      "Header of Xm[:,5] : [ 6.575    nan  7.185    nan  7.147  6.43   6.012  6.172    nan  6.004]\n"
     ]
    }
   ],
   "source": [
    "from random import sample, seed\n",
    "import numpy as np\n",
    "seed(19)\n",
    "Xm = X.copy()\n",
    "missing = sample(range(len(y)), len(y)//4)\n",
    "Xm[missing,5] = np.nan\n",
    "print (\"Header of Xm[:,5] : %s\" % Xm[:10,5])"
   ]
  },
  {
   "cell_type": "code",
   "execution_count": 48,
   "metadata": {
    "collapsed": false,
    "jupyter": {
     "outputs_hidden": false
    }
   },
   "outputs": [
    {
     "name": "stdout",
     "output_type": "stream",
     "text": [
      "Header of imputed Xm[:,5] : [ 6.575    6.25446  7.185    6.25446  7.147    6.43     6.012    6.172\n",
      "  6.25446  6.004  ]\n"
     ]
    }
   ],
   "source": [
    "from sklearn.preprocessing import Imputer\n",
    "impute = Imputer(missing_values = 'NaN', strategy='mean', axis=1)\n",
    "print (\"Header of imputed Xm[:,5] : %s\" % impute.fit_transform(Xm[:,5])[0][:10])"
   ]
  },
  {
   "cell_type": "markdown",
   "metadata": {},
   "source": [
    "## Keeping trace of missing values"
   ]
  },
  {
   "cell_type": "code",
   "execution_count": 49,
   "metadata": {
    "collapsed": false,
    "jupyter": {
     "outputs_hidden": false
    }
   },
   "outputs": [
    {
     "name": "stdout",
     "output_type": "stream",
     "text": [
      "Header of missing indicator : [0 1 0 1 0 0 0 0 1 0]\n"
     ]
    }
   ],
   "source": [
    "missing_indicator = np.isnan(Xm[:,5]).astype(int)\n",
    "print (\"Header of missing indicator : %s\" % missing_indicator[:10])"
   ]
  },
  {
   "cell_type": "markdown",
   "metadata": {},
   "source": [
    "# Outliers"
   ]
  },
  {
   "cell_type": "code",
   "execution_count": 50,
   "metadata": {
    "collapsed": false,
    "jupyter": {
     "outputs_hidden": false
    }
   },
   "outputs": [],
   "source": [
    "boston = load_boston() \n",
    "dataset = pd.DataFrame(boston.data, columns=boston.feature_names)\n",
    "labels = boston.feature_names\n",
    "X = dataset\n",
    "y = boston.target"
   ]
  },
  {
   "cell_type": "markdown",
   "metadata": {},
   "source": [
    "## Outliers on the response"
   ]
  },
  {
   "cell_type": "code",
   "execution_count": 51,
   "metadata": {
    "collapsed": false,
    "jupyter": {
     "outputs_hidden": false
    }
   },
   "outputs": [
    {
     "data": {
      "image/png": "[encoded data removed]",
      "text/plain": [
       "<matplotlib.figure.Figure at 0xaaf57f0>"
      ]
     },
     "metadata": {},
     "output_type": "display_data"
    }
   ],
   "source": [
    "boxplot = plt.boxplot(y,labels=('y'))"
   ]
  },
  {
   "cell_type": "code",
   "execution_count": 52,
   "metadata": {
    "collapsed": false,
    "jupyter": {
     "outputs_hidden": false
    }
   },
   "outputs": [
    {
     "data": {
      "image/png": "[encoded data removed]",
      "text/plain": [
       "<matplotlib.figure.Figure at 0xab7a2e8>"
      ]
     },
     "metadata": {},
     "output_type": "display_data"
    }
   ],
   "source": [
    "linear_regression = linear_model.LinearRegression(normalize=False, fit_intercept=True)\n",
    "linear_regression.fit(X, y)\n",
    "\n",
    "SSE = linear_regression.residues_\n",
    "RMSE = np.sqrt(linear_regression.residues_ / (X.shape[0] - X.shape[1] -1))\n",
    "standardized_residuals = (y - linear_regression.predict(X)) / RMSE\n",
    "\n",
    "scatter = plt.plot(linear_regression.predict(X), standardized_residuals, 'wo')\n",
    "plt.plot([-10,50],[0,0], \"r-\")\n",
    "plt.plot([-10,50],[3,3], \"r--\")\n",
    "plt.plot([-10,50],[-3,-3], \"r--\")\n",
    "plt.xlabel('fitted values')\n",
    "plt.ylabel('standardized residuals')\n",
    "plt.show()"
   ]
  },
  {
   "cell_type": "markdown",
   "metadata": {},
   "source": [
    "## Outliers among the predictors"
   ]
  },
  {
   "cell_type": "code",
   "execution_count": 53,
   "metadata": {
    "collapsed": false,
    "jupyter": {
     "outputs_hidden": false
    }
   },
   "outputs": [
    {
     "data": {
      "image/png": "[encoded data removed]",
      "text/plain": [
       "<matplotlib.figure.Figure at 0xac07748>"
      ]
     },
     "metadata": {},
     "output_type": "display_data"
    }
   ],
   "source": [
    "standardization = StandardScaler(with_mean=True, with_std=True)\n",
    "Xs = standardization.fit_transform(X)\n",
    "boxplot = plt.boxplot(Xs[:,0:7],labels=labels[0:7])"
   ]
  },
  {
   "cell_type": "code",
   "execution_count": 54,
   "metadata": {
    "collapsed": false,
    "jupyter": {
     "outputs_hidden": false
    }
   },
   "outputs": [
    {
     "data": {
      "image/png": "[encoded data removed]",
      "text/plain": [
       "<matplotlib.figure.Figure at 0xb244f98>"
      ]
     },
     "metadata": {},
     "output_type": "display_data"
    }
   ],
   "source": [
    "boxplot = plt.boxplot(Xs[:,7:13],labels=labels[7:13])"
   ]
  },
  {
   "cell_type": "code",
   "execution_count": 55,
   "metadata": {
    "collapsed": false,
    "jupyter": {
     "outputs_hidden": false
    }
   },
   "outputs": [
    {
     "name": "stdout",
     "output_type": "stream",
     "text": [
      "[ 0.47097  0.11016  0.09547  0.06598  0.0642   0.05074  0.04146  0.0305\n",
      "  0.02134  0.01694  0.01432  0.01301  0.00489]\n"
     ]
    }
   ],
   "source": [
    "from sklearn.decomposition import PCA\n",
    "pca = PCA()\n",
    "pca.fit(Xs)\n",
    "C = pca.transform(Xs)\n",
    "print (pca.explained_variance_ratio_)"
   ]
  },
  {
   "cell_type": "code",
   "execution_count": 56,
   "metadata": {
    "collapsed": false,
    "jupyter": {
     "outputs_hidden": false
    }
   },
   "outputs": [
    {
     "data": {
      "image/png": "[encoded data removed]",
      "text/plain": [
       "<matplotlib.figure.Figure at 0xb83be10>"
      ]
     },
     "metadata": {},
     "output_type": "display_data"
    }
   ],
   "source": [
    "import numpy as np\n",
    "import matplotlib.pyplot as plt\n",
    "explained_variance = pca.explained_variance_ratio_\n",
    "plt.title('Portion of explained variance by component')\n",
    "range_ = [r+1 for r in range(len(explained_variance))]\n",
    "plt.bar(range_,explained_variance, color=\"b\", alpha=0.4, align=\"center\")\n",
    "plt.plot(range_,explained_variance,'ro-')\n",
    "for pos, pct in enumerate(explained_variance):\n",
    "    plt.annotate(str(round(pct,2)), (pos+1,pct+0.007))\n",
    "plt.xticks(range_)\n",
    "plt.show()"
   ]
  },
  {
   "cell_type": "code",
   "execution_count": 57,
   "metadata": {
    "collapsed": false,
    "jupyter": {
     "outputs_hidden": false
    }
   },
   "outputs": [
    {
     "data": {
      "text/plain": [
       "<matplotlib.text.Text at 0xbae1358>"
      ]
     },
     "execution_count": 57,
     "metadata": {},
     "output_type": "execute_result"
    },
    {
     "data": {
      "image/png": "[encoded data removed]",
      "text/plain": [
       "<matplotlib.figure.Figure at 0xb83b6d8>"
      ]
     },
     "metadata": {},
     "output_type": "display_data"
    }
   ],
   "source": [
    "scatter = plt.scatter(C[:,0],C[:,1], facecolors='none', edgecolors='black')\n",
    "plt.xlabel('Dimension 1')\n",
    "plt.ylabel('Dimension 2')"
   ]
  },
  {
   "cell_type": "code",
   "execution_count": 58,
   "metadata": {
    "collapsed": false,
    "jupyter": {
     "outputs_hidden": false
    }
   },
   "outputs": [
    {
     "data": {
      "text/plain": [
       "<matplotlib.text.Text at 0xbb308d0>"
      ]
     },
     "execution_count": 58,
     "metadata": {},
     "output_type": "execute_result"
    },
    {
     "data": {
      "image/png": "[encoded data removed]",
      "text/plain": [
       "<matplotlib.figure.Figure at 0xbb2d5f8>"
      ]
     },
     "metadata": {},
     "output_type": "display_data"
    }
   ],
   "source": [
    "scatter = plt.scatter(C[:,0],C[:,2], facecolors='none', edgecolors='black')\n",
    "plt.xlabel('Dimension 1')\n",
    "plt.ylabel('Dimension 3')"
   ]
  }
 ],
 "metadata": {
  "kernelspec": {
   "display_name": "Python 3",
   "language": "python",
   "name": "python3"
  },
  "language_info": {
   "codemirror_mode": {
    "name": "ipython",
    "version": 3
   },
   "file_extension": ".py",
   "mimetype": "text/x-python",
   "name": "python",
   "nbconvert_exporter": "python",
   "pygments_lexer": "ipython3",
   "version": "3.7.5"
  }
 },
 "nbformat": 4,
 "nbformat_minor": 4
}
