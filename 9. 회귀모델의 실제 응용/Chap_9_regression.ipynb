{
 "cells": [
  {
   "cell_type": "code",
   "execution_count": 13,
   "metadata": {
    "collapsed": false
   },
   "outputs": [],
   "source": [
    "import matplotlib.pyplot as plt\n",
    "%matplotlib inline  \n",
    "\n",
    "import numpy as np\n",
    "import pandas as pd\n",
    "\n",
    "dataset = pd.read_csv('./msd/YearPredictionMSD.txt', \n",
    "                      header=None).as_matrix()"
   ]
  },
  {
   "cell_type": "code",
   "execution_count": 14,
   "metadata": {
    "collapsed": false
   },
   "outputs": [],
   "source": [
    "X_train = dataset[:463715, 1:].astype(np.float32)\n",
    "y_train = np.asarray(dataset[:463715, 0])\n",
    "\n",
    "X_test = dataset[463715:, 1:].astype(np.float32)\n",
    "y_test = np.asarray(dataset[463715:, 0])"
   ]
  },
  {
   "cell_type": "code",
   "execution_count": 15,
   "metadata": {
    "collapsed": false
   },
   "outputs": [
    {
     "name": "stdout",
     "output_type": "stream",
     "text": [
      "Dataset is MB: 375.17116\n"
     ]
    }
   ],
   "source": [
    "print(\"Dataset is MB:\", dataset.nbytes/1E6)\n",
    "\n",
    "del dataset"
   ]
  },
  {
   "cell_type": "code",
   "execution_count": 16,
   "metadata": {
    "collapsed": false
   },
   "outputs": [],
   "source": [
    "from sklearn.linear_model import LinearRegression, SGDRegressor\n",
    "from sklearn.cross_validation import KFold\n",
    "from sklearn.metrics import mean_absolute_error\n",
    "import time"
   ]
  },
  {
   "cell_type": "code",
   "execution_count": 17,
   "metadata": {
    "collapsed": false
   },
   "outputs": [
    {
     "name": "stdout",
     "output_type": "stream",
     "text": [
      "Training time [s]: 6.211522000000059\n",
      "MAE train set: 6.79557143273\n",
      "MAE test set: 6.8004976262\n"
     ]
    }
   ],
   "source": [
    "regr = LinearRegression()\n",
    "\n",
    "tic = time.clock()\n",
    "regr.fit(X_train, y_train)\n",
    "print(\"Training time [s]:\", time.clock()-tic)\n",
    "\n",
    "print(\"MAE train set:\", mean_absolute_error(y_train, \n",
    "                                  regr.predict(X_train)))\n",
    "\n",
    "print(\"MAE test set:\", mean_absolute_error(y_test, \n",
    "                                  regr.predict(X_test)))"
   ]
  },
  {
   "cell_type": "code",
   "execution_count": 18,
   "metadata": {
    "collapsed": false
   },
   "outputs": [
    {
     "name": "stdout",
     "output_type": "stream",
     "text": [
      "Training time [s]: 1.4601459999998951\n",
      "MAE train set: 4.61352832373e+15\n",
      "MAE test set: 4.64860022117e+15\n"
     ]
    }
   ],
   "source": [
    "regr = SGDRegressor(random_state=101)\n",
    "\n",
    "tic = time.clock()\n",
    "regr.fit(X_train, y_train)\n",
    "print(\"Training time [s]:\", time.clock()-tic)\n",
    "\n",
    "print(\"MAE train set:\", mean_absolute_error(y_train, \n",
    "                                  regr.predict(X_train)))\n",
    "\n",
    "print(\"MAE test set:\", mean_absolute_error(y_test, \n",
    "                                  regr.predict(X_test)))"
   ]
  },
  {
   "cell_type": "code",
   "execution_count": 19,
   "metadata": {
    "collapsed": false
   },
   "outputs": [
    {
     "name": "stdout",
     "output_type": "stream",
     "text": [
      "Training time [s]: 23.028584000000137\n",
      "MAE train set: 8.12486708423e+14\n",
      "MAE test set: 8.11624417368e+14\n"
     ]
    }
   ],
   "source": [
    "regr = SGDRegressor(random_state=101, n_iter=100)\n",
    "\n",
    "tic = time.clock()\n",
    "regr.fit(X_train, y_train)\n",
    "print(\"Training time [s]:\", time.clock()-tic)\n",
    "\n",
    "print(\"MAE train set:\", mean_absolute_error(y_train, \n",
    "                                  regr.predict(X_train)))\n",
    "\n",
    "print(\"MAE test set:\", mean_absolute_error(y_test, \n",
    "                                  regr.predict(X_test)))"
   ]
  },
  {
   "cell_type": "code",
   "execution_count": 20,
   "metadata": {
    "collapsed": false
   },
   "outputs": [
    {
     "data": {
      "text/plain": [
       "4186"
      ]
     },
     "execution_count": 20,
     "metadata": {},
     "output_type": "execute_result"
    }
   ],
   "source": [
    "from sklearn.preprocessing import PolynomialFeatures\n",
    "PolynomialFeatures().fit_transform(X_train[:10,:]).shape[1]"
   ]
  },
  {
   "cell_type": "code",
   "execution_count": 21,
   "metadata": {
    "collapsed": false,
    "scrolled": false
   },
   "outputs": [
    {
     "name": "stdout",
     "output_type": "stream",
     "text": [
      "---------------------------\n",
      "K =  50\n",
      "Training time [s]: 9.189624000000094\n",
      "MAE train set: 7.2167947147\n",
      "MAE test set: 7.17509061835\n",
      "---------------------------\n",
      "K =  100\n",
      "Training time [s]: 9.120705000000271\n",
      "MAE train set: 7.15342169823\n",
      "MAE test set: 7.11426166834\n",
      "---------------------------\n",
      "K =  150\n",
      "Training time [s]: 10.262009999999918\n",
      "MAE train set: 7.06834013527\n",
      "MAE test set: 7.06141525342\n",
      "---------------------------\n",
      "K =  200\n",
      "Training time [s]: 9.969074999999975\n",
      "MAE train set: 7.02144412121\n",
      "MAE test set: 7.04225179913\n",
      "---------------------------\n",
      "K =  250\n",
      "Training time [s]: 10.463522999999896\n",
      "MAE train set: 6.97841358686\n",
      "MAE test set: 7.0199851787\n",
      "---------------------------\n",
      "K =  300\n",
      "Training time [s]: 10.902124000000185\n",
      "MAE train set: 6.91862958298\n",
      "MAE test set: 6.9704004744\n",
      "---------------------------\n",
      "K =  350\n",
      "Training time [s]: 10.932276000000002\n",
      "MAE train set: 6.88969389119\n",
      "MAE test set: 6.95757659986\n",
      "---------------------------\n",
      "K =  400\n",
      "Training time [s]: 10.988593000000037\n",
      "MAE train set: 6.86189632215\n",
      "MAE test set: 6.93971151828\n",
      "---------------------------\n",
      "K =  450\n",
      "Training time [s]: 10.934052000000065\n",
      "MAE train set: 6.8470951285\n",
      "MAE test set: 6.93249603911\n",
      "---------------------------\n",
      "K =  500\n",
      "Training time [s]: 11.516423000000032\n",
      "MAE train set: 6.72959173339\n",
      "MAE test set: 6.83194648692\n",
      "---------------------------\n",
      "K =  550\n",
      "Training time [s]: 12.424326000000292\n",
      "MAE train set: 6.71634222538\n",
      "MAE test set: 6.82796065018\n",
      "---------------------------\n",
      "K =  600\n",
      "Training time [s]: 12.464111999999659\n",
      "MAE train set: 6.70628319015\n",
      "MAE test set: 6.83433806849\n",
      "---------------------------\n",
      "K =  650\n",
      "Training time [s]: 13.470016000000214\n",
      "MAE train set: 6.69552528727\n",
      "MAE test set: 6.82796657269\n",
      "---------------------------\n",
      "K =  700\n",
      "Training time [s]: 14.409058999999615\n",
      "MAE train set: 6.67643159459\n",
      "MAE test set: 6.81717314484\n",
      "---------------------------\n",
      "K =  750\n",
      "Training time [s]: 14.7598109999999\n",
      "MAE train set: 6.65909392533\n",
      "MAE test set: 6.82012877525\n",
      "---------------------------\n",
      "K =  800\n",
      "Training time [s]: 16.1001839999999\n",
      "MAE train set: 6.62333700563\n",
      "MAE test set: 6.79037693333\n",
      "---------------------------\n",
      "K =  850\n",
      "Training time [s]: 16.856222999999773\n",
      "MAE train set: 6.60585395287\n",
      "MAE test set: 6.79795536879\n",
      "---------------------------\n",
      "K =  900\n",
      "Training time [s]: 22.623407000000043\n",
      "MAE train set: 6.51544505322\n",
      "MAE test set: 6.71429177541\n",
      "---------------------------\n",
      "K =  950\n",
      "Training time [s]: 22.074413000000277\n",
      "MAE train set: 6.51045903119\n",
      "MAE test set: 6.72172702014\n",
      "---------------------------\n",
      "K =  1000\n",
      "Training time [s]: 19.745074999999815\n",
      "MAE train set: 6.49810675993\n",
      "MAE test set: 6.72195323088\n",
      "---------------------------\n",
      "K =  1050\n",
      "Training time [s]: 25.120972000000165\n",
      "MAE train set: 6.48685165912\n",
      "MAE test set: 6.72579016523\n",
      "---------------------------\n",
      "K =  1100\n",
      "Training time [s]: 24.06064000000015\n",
      "MAE train set: 6.47600501737\n",
      "MAE test set: 6.73529947042\n",
      "---------------------------\n",
      "K =  1150\n",
      "Training time [s]: 28.219682999999804\n",
      "MAE train set: 6.47057203284\n",
      "MAE test set: 6.74342672984\n",
      "---------------------------\n",
      "K =  1200\n",
      "Training time [s]: 31.512782000000243\n",
      "MAE train set: 6.46298446662\n",
      "MAE test set: 6.75134851044\n",
      "---------------------------\n",
      "K =  1250\n",
      "Training time [s]: 35.47639599999957\n",
      "MAE train set: 6.45400747295\n",
      "MAE test set: 6.7529763329\n",
      "---------------------------\n",
      "K =  1300\n",
      "Training time [s]: 38.28391099999999\n",
      "MAE train set: 6.44523423512\n",
      "MAE test set: 6.76696563111\n",
      "---------------------------\n",
      "K =  1350\n",
      "Training time [s]: 41.944379000000026\n",
      "MAE train set: 6.44276461289\n",
      "MAE test set: 6.76906109668\n",
      "---------------------------\n",
      "K =  1400\n",
      "Training time [s]: 45.48775500000011\n",
      "MAE train set: 6.43744960773\n",
      "MAE test set: 6.77973099752\n",
      "---------------------------\n",
      "K =  1450\n",
      "Training time [s]: 49.26655900000014\n",
      "MAE train set: 6.42799902806\n",
      "MAE test set: 6.78606734133\n",
      "---------------------------\n",
      "K =  1500\n",
      "Training time [s]: 54.279123000000254\n",
      "MAE train set: 6.41908632884\n",
      "MAE test set: 6.78776307493\n",
      "---------------------------\n",
      "K =  1550\n",
      "Training time [s]: 59.284466000000066\n",
      "MAE train set: 6.40760621297\n",
      "MAE test set: 6.79340352064\n",
      "---------------------------\n",
      "K =  1600\n",
      "Training time [s]: 63.60156000000006\n",
      "MAE train set: 6.40244215936\n",
      "MAE test set: 6.80588825081\n",
      "---------------------------\n",
      "K =  1650\n",
      "Training time [s]: 71.3499710000001\n",
      "MAE train set: 6.39500350681\n",
      "MAE test set: 6.80674622547\n",
      "---------------------------\n",
      "K =  1700\n",
      "Training time [s]: 77.72881400000006\n",
      "MAE train set: 6.39144714509\n",
      "MAE test set: 6.80876654751\n",
      "---------------------------\n",
      "K =  1750\n",
      "Training time [s]: 90.47765600000002\n",
      "MAE train set: 6.38828227431\n",
      "MAE test set: 6.81618479538\n",
      "---------------------------\n",
      "K =  1800\n",
      "Training time [s]: 94.09637999999995\n",
      "MAE train set: 6.38436743183\n",
      "MAE test set: 6.83793056244\n",
      "---------------------------\n",
      "K =  1850\n",
      "Training time [s]: 108.53475900000012\n",
      "MAE train set: 6.37654462545\n",
      "MAE test set: 6.851422917\n",
      "---------------------------\n",
      "K =  1900\n",
      "Training time [s]: 113.16720600000008\n",
      "MAE train set: 6.37078254348\n",
      "MAE test set: 6.84987645125\n",
      "---------------------------\n",
      "K =  1950\n",
      "Training time [s]: 117.7559339999998\n",
      "MAE train set: 6.36538626383\n",
      "MAE test set: 6.85842654271\n",
      "---------------------------\n",
      "K =  2000\n",
      "Training time [s]: 136.62466099999983\n",
      "MAE train set: 6.35740356263\n",
      "MAE test set: 6.86709623004\n"
     ]
    }
   ],
   "source": [
    "from sklearn.pipeline import Pipeline\n",
    "from sklearn import feature_selection\n",
    "from sklearn.feature_selection import SelectKBest\n",
    "import gc\n",
    "\n",
    "folds = 12\n",
    "train_idx = list(KFold(X_train.shape[0], folds, random_state=101, shuffle=True))[0][1]\n",
    "\n",
    "to_plot = []\n",
    "\n",
    "\n",
    "for k_feat in range(50, 2001, 50):\n",
    "    \n",
    "    gc.collect()\n",
    "    \n",
    "    print('---------------------------')\n",
    "    print(\"K = \", k_feat)\n",
    "    \n",
    "    poly = PolynomialFeatures()\n",
    "    regr = LinearRegression()\n",
    "    f_sel = SelectKBest(feature_selection.f_regression, k=k_feat)\n",
    "\n",
    "    pipeline = Pipeline([('poly', poly), ('f_sel', f_sel), ('regr', regr)])\n",
    "    tic = time.clock()\n",
    "    pipeline.fit(X_train[train_idx], y_train[train_idx])\n",
    "    print(\"Training time [s]:\", time.clock()-tic)\n",
    "    \n",
    "    mae_train = mean_absolute_error(y_train[train_idx], pipeline.predict(X_train[train_idx]))\n",
    "    mae_test = mean_absolute_error(y_test, pipeline.predict(X_test))\n",
    "\n",
    "    print(\"MAE train set:\", mae_train)\n",
    "\n",
    "    print(\"MAE test set:\", mae_test)\n",
    "    \n",
    "    to_plot.append((k_feat, mae_train, mae_test))"
   ]
  },
  {
   "cell_type": "code",
   "execution_count": 22,
   "metadata": {
    "collapsed": false
   },
   "outputs": [
    {
     "data": {
      "image/png": "[encoded data removed]",
      "text/plain": [
       "<matplotlib.figure.Figure at 0x1103a9828>"
      ]
     },
     "metadata": {},
     "output_type": "display_data"
    }
   ],
   "source": [
    "plt.plot([x[0] for x in to_plot], [x[1] for x in to_plot], 'b', label='Train')\n",
    "plt.plot([x[0] for x in to_plot], [x[2] for x in to_plot], 'r--', label='Test')\n",
    "plt.xlabel('Num. features selected')\n",
    "plt.ylabel('MAE train/test')\n",
    "plt.legend(loc=0)\n",
    "\n",
    "plt.show()"
   ]
  },
  {
   "cell_type": "markdown",
   "metadata": {
    "collapsed": false
   },
   "source": [
    "## What about a classifier instead of a regressor?"
   ]
  },
  {
   "cell_type": "code",
   "execution_count": 23,
   "metadata": {
    "collapsed": false
   },
   "outputs": [
    {
     "name": "stdout",
     "output_type": "stream",
     "text": [
      "[ 1922.  1924.  1925.  1926.  1927.  1928.  1929.  1930.  1931.  1932.\n",
      "  1933.  1934.  1935.  1936.  1937.  1938.  1939.  1940.  1941.  1942.\n",
      "  1943.  1944.  1945.  1946.  1947.  1948.  1949.  1950.  1951.  1952.\n",
      "  1953.  1954.  1955.  1956.  1957.  1958.  1959.  1960.  1961.  1962.\n",
      "  1963.  1964.  1965.  1966.  1967.  1968.  1969.  1970.  1971.  1972.\n",
      "  1973.  1974.  1975.  1976.  1977.  1978.  1979.  1980.  1981.  1982.\n",
      "  1983.  1984.  1985.  1986.  1987.  1988.  1989.  1990.  1991.  1992.\n",
      "  1993.  1994.  1995.  1996.  1997.  1998.  1999.  2000.  2001.  2002.\n",
      "  2003.  2004.  2005.  2006.  2007.  2008.  2009.  2010.  2011.]\n",
      "89\n"
     ]
    }
   ],
   "source": [
    "print(np.unique(np.ascontiguousarray(y_train)))\n",
    "print(len(np.unique(np.ascontiguousarray(y_train))))"
   ]
  },
  {
   "cell_type": "code",
   "execution_count": 24,
   "metadata": {
    "collapsed": false
   },
   "outputs": [
    {
     "name": "stdout",
     "output_type": "stream",
     "text": [
      "Training time [s]: 69.49637499999972\n",
      "MAE train set: 8.57550866373\n",
      "MAE test set: 8.52630253728\n"
     ]
    }
   ],
   "source": [
    "from sklearn.linear_model import SGDClassifier\n",
    "regr = SGDClassifier('log', random_state=101)\n",
    "\n",
    "tic = time.clock()\n",
    "regr.fit(X_train, y_train)\n",
    "print(\"Training time [s]:\", time.clock()-tic)\n",
    "\n",
    "print(\"MAE train set:\", mean_absolute_error(y_train, \n",
    "                                  regr.predict(X_train)))\n",
    "\n",
    "print(\"MAE test set:\", mean_absolute_error(y_test, \n",
    "                                  regr.predict(X_test)))"
   ]
  },
  {
   "cell_type": "code",
   "execution_count": null,
   "metadata": {
    "collapsed": true
   },
   "outputs": [],
   "source": []
  }
 ],
 "metadata": {
  "kernelspec": {
   "display_name": "Python 3",
   "language": "python",
   "name": "python3"
  },
  "language_info": {
   "codemirror_mode": {
    "name": "ipython",
    "version": 3
   },
   "file_extension": ".py",
   "mimetype": "text/x-python",
   "name": "python",
   "nbconvert_exporter": "python",
   "pygments_lexer": "ipython3",
   "version": "3.5.1"
  }
 },
 "nbformat": 4,
 "nbformat_minor": 0
}
